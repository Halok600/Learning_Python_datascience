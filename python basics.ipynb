{
 "cells": [
  {
   "cell_type": "markdown",
   "id": "a2bcf24e",
   "metadata": {},
   "source": [
    "# Hello World"
   ]
  },
  {
   "cell_type": "code",
   "execution_count": 11,
   "id": "8d69c675",
   "metadata": {},
   "outputs": [
    {
     "name": "stdout",
     "output_type": "stream",
     "text": [
      "Hello World!\n"
     ]
    }
   ],
   "source": [
    "print(\"Hello World!\")"
   ]
  },
  {
   "cell_type": "code",
   "execution_count": 13,
   "id": "d13cd3ad",
   "metadata": {},
   "outputs": [
    {
     "data": {
      "text/plain": [
       "'Hello World!'"
      ]
     },
     "execution_count": 13,
     "metadata": {},
     "output_type": "execute_result"
    }
   ],
   "source": [
    "\"Hello World!\""
   ]
  },
  {
   "cell_type": "code",
   "execution_count": 18,
   "id": "f5026f63",
   "metadata": {},
   "outputs": [
    {
     "name": "stdout",
     "output_type": "stream",
     "text": [
      "Halok\n"
     ]
    }
   ],
   "source": [
    "#prinitng name\n",
    "print(\"Halok\")"
   ]
  },
  {
   "cell_type": "code",
   "execution_count": 17,
   "id": "b9f83dfc",
   "metadata": {},
   "outputs": [
    {
     "name": "stdout",
     "output_type": "stream",
     "text": [
      "26\n"
     ]
    }
   ],
   "source": [
    "#Printing age\n",
    "print(26)"
   ]
  },
  {
   "cell_type": "markdown",
   "id": "1dbb3a92",
   "metadata": {},
   "source": [
    "# Data Types\n"
   ]
  },
  {
   "cell_type": "code",
   "execution_count": 20,
   "id": "642b1356",
   "metadata": {},
   "outputs": [
    {
     "data": {
      "text/plain": [
       "int"
      ]
     },
     "execution_count": 20,
     "metadata": {},
     "output_type": "execute_result"
    }
   ],
   "source": [
    "type(1)"
   ]
  },
  {
   "cell_type": "code",
   "execution_count": 22,
   "id": "1aad947d",
   "metadata": {},
   "outputs": [
    {
     "data": {
      "text/plain": [
       "float"
      ]
     },
     "execution_count": 22,
     "metadata": {},
     "output_type": "execute_result"
    }
   ],
   "source": [
    "type(2.4)"
   ]
  },
  {
   "cell_type": "code",
   "execution_count": 25,
   "id": "fa4ae2bc",
   "metadata": {},
   "outputs": [
    {
     "data": {
      "text/plain": [
       "bool"
      ]
     },
     "execution_count": 25,
     "metadata": {},
     "output_type": "execute_result"
    }
   ],
   "source": [
    "type(True)"
   ]
  },
  {
   "cell_type": "code",
   "execution_count": 26,
   "id": "99b73845",
   "metadata": {},
   "outputs": [
    {
     "data": {
      "text/plain": [
       "str"
      ]
     },
     "execution_count": 26,
     "metadata": {},
     "output_type": "execute_result"
    }
   ],
   "source": [
    "type(\"Hello world\")"
   ]
  },
  {
   "cell_type": "code",
   "execution_count": 27,
   "id": "6fe4e1f4",
   "metadata": {},
   "outputs": [
    {
     "data": {
      "text/plain": [
       "'HELLO WORLD!'"
      ]
     },
     "execution_count": 27,
     "metadata": {},
     "output_type": "execute_result"
    }
   ],
   "source": [
    "\"Hello World!\".upper()"
   ]
  },
  {
   "cell_type": "code",
   "execution_count": 31,
   "id": "a14062ff",
   "metadata": {},
   "outputs": [
    {
     "name": "stdout",
     "output_type": "stream",
     "text": [
      "hello world!\n",
      "Hello World!\n"
     ]
    }
   ],
   "source": [
    "print(\"Hello World!\".lower())\n",
    "print(\"hello World!\".title())"
   ]
  },
  {
   "cell_type": "code",
   "execution_count": 32,
   "id": "369e964a",
   "metadata": {},
   "outputs": [
    {
     "data": {
      "text/plain": [
       "3"
      ]
     },
     "execution_count": 32,
     "metadata": {},
     "output_type": "execute_result"
    }
   ],
   "source": [
    "\"Hello World!\".count('l')"
   ]
  },
  {
   "cell_type": "code",
   "execution_count": 33,
   "id": "54a9f0bf",
   "metadata": {},
   "outputs": [
    {
     "data": {
      "text/plain": [
       "'Hexxo Worxd!'"
      ]
     },
     "execution_count": 33,
     "metadata": {},
     "output_type": "execute_result"
    }
   ],
   "source": [
    "\"Hello World!\".replace('l','x')"
   ]
  },
  {
   "cell_type": "code",
   "execution_count": 34,
   "id": "cdacb40b",
   "metadata": {},
   "outputs": [
    {
     "data": {
      "text/plain": [
       "'Hellu Wurld!'"
      ]
     },
     "execution_count": 34,
     "metadata": {},
     "output_type": "execute_result"
    }
   ],
   "source": [
    "\"Hello World!\".replace('o','u')"
   ]
  },
  {
   "cell_type": "markdown",
   "id": "87e20281",
   "metadata": {},
   "source": [
    "# Variables"
   ]
  },
  {
   "cell_type": "code",
   "execution_count": 36,
   "id": "6d6d0de7",
   "metadata": {},
   "outputs": [
    {
     "name": "stdout",
     "output_type": "stream",
     "text": [
      "I am Learning Python\n"
     ]
    }
   ],
   "source": [
    "message_1 = \"I am Learning Python\"\n",
    "print(message_1)"
   ]
  },
  {
   "cell_type": "code",
   "execution_count": 37,
   "id": "7f81942a",
   "metadata": {},
   "outputs": [
    {
     "data": {
      "text/plain": [
       "'I am Learning Python'"
      ]
     },
     "execution_count": 37,
     "metadata": {},
     "output_type": "execute_result"
    }
   ],
   "source": [
    "message_1"
   ]
  },
  {
   "cell_type": "code",
   "execution_count": 41,
   "id": "0310abe3",
   "metadata": {},
   "outputs": [],
   "source": [
    "message_2 = \"and it's fun!\""
   ]
  },
  {
   "cell_type": "code",
   "execution_count": 45,
   "id": "03613978",
   "metadata": {},
   "outputs": [
    {
     "data": {
      "text/plain": [
       "\"I am Learning Python and it's fun!\""
      ]
     },
     "execution_count": 45,
     "metadata": {},
     "output_type": "execute_result"
    }
   ],
   "source": [
    "message = message_1+\" \"+message_2\n",
    "message"
   ]
  },
  {
   "cell_type": "code",
   "execution_count": 46,
   "id": "2cb491f5",
   "metadata": {},
   "outputs": [
    {
     "name": "stdout",
     "output_type": "stream",
     "text": [
      "I am Learning Python and it's fun!\n"
     ]
    }
   ],
   "source": [
    "print(message)"
   ]
  },
  {
   "cell_type": "code",
   "execution_count": 48,
   "id": "5e961927",
   "metadata": {},
   "outputs": [
    {
     "data": {
      "text/plain": [
       "\"I am Learning Python and it's fun!\""
      ]
     },
     "execution_count": 48,
     "metadata": {},
     "output_type": "execute_result"
    }
   ],
   "source": [
    "f'{message_1} {message_2}'"
   ]
  },
  {
   "cell_type": "code",
   "execution_count": 49,
   "id": "e7eeaecf",
   "metadata": {},
   "outputs": [
    {
     "data": {
      "text/plain": [
       "'Hello World!'"
      ]
     },
     "execution_count": 49,
     "metadata": {},
     "output_type": "execute_result"
    }
   ],
   "source": [
    "f'Hello World!'"
   ]
  },
  {
   "cell_type": "markdown",
   "id": "49f73910",
   "metadata": {},
   "source": [
    "# List"
   ]
  },
  {
   "cell_type": "code",
   "execution_count": 51,
   "id": "d9ac86c5",
   "metadata": {},
   "outputs": [],
   "source": [
    "countries = ['India','USA','UK','Japan','China']"
   ]
  },
  {
   "cell_type": "code",
   "execution_count": 53,
   "id": "ec4edc96",
   "metadata": {},
   "outputs": [
    {
     "data": {
      "text/plain": [
       "['India', 'USA', 'UK', 'Japan', 'China']"
      ]
     },
     "execution_count": 53,
     "metadata": {},
     "output_type": "execute_result"
    }
   ],
   "source": [
    "countries"
   ]
  },
  {
   "cell_type": "code",
   "execution_count": 56,
   "id": "8ba765bc",
   "metadata": {},
   "outputs": [
    {
     "name": "stdout",
     "output_type": "stream",
     "text": [
      "India\n",
      "USA\n",
      "UK\n"
     ]
    }
   ],
   "source": [
    "print(countries[0])\n",
    "print(countries[1])\n",
    "print(countries[2])"
   ]
  },
  {
   "cell_type": "code",
   "execution_count": 59,
   "id": "1907f5e8",
   "metadata": {},
   "outputs": [
    {
     "name": "stdout",
     "output_type": "stream",
     "text": [
      "China\n",
      "Japan\n",
      "India\n"
     ]
    }
   ],
   "source": [
    "print(countries[-1])\n",
    "print(countries[-2])\n",
    "print(countries[-5])"
   ]
  },
  {
   "cell_type": "code",
   "execution_count": 61,
   "id": "a6b81440",
   "metadata": {},
   "outputs": [
    {
     "data": {
      "text/plain": [
       "['India', 'USA', 'UK']"
      ]
     },
     "execution_count": 61,
     "metadata": {},
     "output_type": "execute_result"
    }
   ],
   "source": [
    "#slicing\n",
    "\n",
    "countries[0:3]"
   ]
  },
  {
   "cell_type": "code",
   "execution_count": 68,
   "id": "eedba95c",
   "metadata": {},
   "outputs": [
    {
     "data": {
      "text/plain": [
       "['UK', 'Japan', 'China']"
      ]
     },
     "execution_count": 68,
     "metadata": {},
     "output_type": "execute_result"
    }
   ],
   "source": [
    "countries[2:]"
   ]
  },
  {
   "cell_type": "code",
   "execution_count": 69,
   "id": "182ef039",
   "metadata": {},
   "outputs": [
    {
     "data": {
      "text/plain": [
       "['India', 'USA']"
      ]
     },
     "execution_count": 69,
     "metadata": {},
     "output_type": "execute_result"
    }
   ],
   "source": [
    "countries[:2]"
   ]
  },
  {
   "cell_type": "code",
   "execution_count": 67,
   "id": "a2f15271",
   "metadata": {},
   "outputs": [
    {
     "data": {
      "text/plain": [
       "['China', 'Japan', 'UK', 'USA', 'India']"
      ]
     },
     "execution_count": 67,
     "metadata": {},
     "output_type": "execute_result"
    }
   ],
   "source": [
    "countries[4::-1]"
   ]
  },
  {
   "cell_type": "markdown",
   "id": "8e53b258",
   "metadata": {},
   "source": [
    "## Adding Elements\n"
   ]
  },
  {
   "cell_type": "code",
   "execution_count": 70,
   "id": "5922f588",
   "metadata": {},
   "outputs": [],
   "source": [
    "countries.append('Germany')"
   ]
  },
  {
   "cell_type": "code",
   "execution_count": 72,
   "id": "3dfce2d4",
   "metadata": {},
   "outputs": [
    {
     "data": {
      "text/plain": [
       "['India', 'USA', 'UK', 'Japan', 'China', 'Germany']"
      ]
     },
     "execution_count": 72,
     "metadata": {},
     "output_type": "execute_result"
    }
   ],
   "source": [
    "countries"
   ]
  },
  {
   "cell_type": "code",
   "execution_count": 73,
   "id": "b6c79215",
   "metadata": {},
   "outputs": [],
   "source": [
    "countries.insert(3,'France')"
   ]
  },
  {
   "cell_type": "code",
   "execution_count": 74,
   "id": "26e8b71d",
   "metadata": {},
   "outputs": [
    {
     "data": {
      "text/plain": [
       "['India', 'USA', 'UK', 'France', 'Japan', 'China', 'Germany']"
      ]
     },
     "execution_count": 74,
     "metadata": {},
     "output_type": "execute_result"
    }
   ],
   "source": [
    "countries"
   ]
  },
  {
   "cell_type": "code",
   "execution_count": 75,
   "id": "ce1459bf",
   "metadata": {},
   "outputs": [],
   "source": [
    "countries_2 = ['Italy','Spain','Brazil']"
   ]
  },
  {
   "cell_type": "code",
   "execution_count": 76,
   "id": "f1b36241",
   "metadata": {},
   "outputs": [
    {
     "data": {
      "text/plain": [
       "['India',\n",
       " 'USA',\n",
       " 'UK',\n",
       " 'France',\n",
       " 'Japan',\n",
       " 'China',\n",
       " 'Germany',\n",
       " 'Italy',\n",
       " 'Spain',\n",
       " 'Brazil']"
      ]
     },
     "execution_count": 76,
     "metadata": {},
     "output_type": "execute_result"
    }
   ],
   "source": [
    "countries + countries_2"
   ]
  },
  {
   "cell_type": "code",
   "execution_count": 78,
   "id": "ea2deac8",
   "metadata": {},
   "outputs": [],
   "source": [
    "nested_list = [countries,countries_2]"
   ]
  },
  {
   "cell_type": "code",
   "execution_count": 79,
   "id": "0ab27dde",
   "metadata": {},
   "outputs": [
    {
     "data": {
      "text/plain": [
       "[['India', 'USA', 'UK', 'France', 'Japan', 'China', 'Germany'],\n",
       " ['Italy', 'Spain', 'Brazil']]"
      ]
     },
     "execution_count": 79,
     "metadata": {},
     "output_type": "execute_result"
    }
   ],
   "source": [
    "nested_list"
   ]
  },
  {
   "cell_type": "markdown",
   "id": "eed8a985",
   "metadata": {},
   "source": [
    "## Removing an element"
   ]
  },
  {
   "cell_type": "code",
   "execution_count": 103,
   "id": "8edaf3ec",
   "metadata": {},
   "outputs": [
    {
     "name": "stdout",
     "output_type": "stream",
     "text": [
      "['UK', 'France', 'Japan', 'China']\n"
     ]
    }
   ],
   "source": [
    "print(countries)"
   ]
  },
  {
   "cell_type": "code",
   "execution_count": 105,
   "id": "2ecf9f2c",
   "metadata": {},
   "outputs": [],
   "source": [
    "countries.remove('UK')"
   ]
  },
  {
   "cell_type": "code",
   "execution_count": 106,
   "id": "ce9242cb",
   "metadata": {},
   "outputs": [
    {
     "data": {
      "text/plain": [
       "'Japan'"
      ]
     },
     "execution_count": 106,
     "metadata": {},
     "output_type": "execute_result"
    }
   ],
   "source": [
    "countries.pop(1)"
   ]
  },
  {
   "cell_type": "code",
   "execution_count": 112,
   "id": "9b2c0185",
   "metadata": {},
   "outputs": [],
   "source": [
    "countries.append('Germany')"
   ]
  },
  {
   "cell_type": "code",
   "execution_count": 113,
   "id": "93a5024f",
   "metadata": {},
   "outputs": [],
   "source": [
    "del countries[0]"
   ]
  },
  {
   "cell_type": "code",
   "execution_count": 118,
   "id": "fb7e8198",
   "metadata": {},
   "outputs": [],
   "source": [
    "\n",
    "countries.append('Germany')\n",
    "countries.append('Canada')"
   ]
  },
  {
   "cell_type": "code",
   "execution_count": 119,
   "id": "40c307ad",
   "metadata": {},
   "outputs": [
    {
     "name": "stdout",
     "output_type": "stream",
     "text": [
      "['Germany', 'Germany', 'Germany', 'Germany', 'Canada', 'Germany', 'Canada']\n"
     ]
    }
   ],
   "source": [
    "print(countries)"
   ]
  },
  {
   "cell_type": "markdown",
   "id": "3ab58506",
   "metadata": {},
   "source": [
    "## Sorting A List\n"
   ]
  },
  {
   "cell_type": "code",
   "execution_count": 120,
   "id": "b93996a0",
   "metadata": {},
   "outputs": [],
   "source": [
    "numbers = [4,3,10,7,1,2]"
   ]
  },
  {
   "cell_type": "code",
   "execution_count": 121,
   "id": "b7a77800",
   "metadata": {},
   "outputs": [],
   "source": [
    "numbers.sort()"
   ]
  },
  {
   "cell_type": "code",
   "execution_count": 122,
   "id": "26e9f3e1",
   "metadata": {},
   "outputs": [
    {
     "data": {
      "text/plain": [
       "[1, 2, 3, 4, 7, 10]"
      ]
     },
     "execution_count": 122,
     "metadata": {},
     "output_type": "execute_result"
    }
   ],
   "source": [
    "numbers"
   ]
  },
  {
   "cell_type": "code",
   "execution_count": null,
   "id": "33ac8b76",
   "metadata": {},
   "outputs": [],
   "source": [
    "numbers = [4,3,10,7,1,2]"
   ]
  },
  {
   "cell_type": "code",
   "execution_count": 124,
   "id": "d6da6750",
   "metadata": {},
   "outputs": [
    {
     "data": {
      "text/plain": [
       "[10, 7, 4, 3, 2, 1]"
      ]
     },
     "execution_count": 124,
     "metadata": {},
     "output_type": "execute_result"
    }
   ],
   "source": [
    "numbers.sort(reverse=True)\n",
    "numbers"
   ]
  },
  {
   "cell_type": "markdown",
   "id": "1b5b071d",
   "metadata": {},
   "source": [
    "## Update an Element"
   ]
  },
  {
   "cell_type": "code",
   "execution_count": 125,
   "id": "e936516c",
   "metadata": {},
   "outputs": [],
   "source": [
    "numbers[2] = 100"
   ]
  },
  {
   "cell_type": "code",
   "execution_count": 126,
   "id": "5b06365e",
   "metadata": {},
   "outputs": [
    {
     "data": {
      "text/plain": [
       "[10, 7, 100, 3, 2, 1]"
      ]
     },
     "execution_count": 126,
     "metadata": {},
     "output_type": "execute_result"
    }
   ],
   "source": [
    "numbers"
   ]
  },
  {
   "cell_type": "markdown",
   "id": "393cb1b3",
   "metadata": {},
   "source": [
    "## Copying a List"
   ]
  },
  {
   "cell_type": "code",
   "execution_count": 130,
   "id": "a6b1f64c",
   "metadata": {},
   "outputs": [],
   "source": [
    "countries = ['India','USA','UK','Japan','China']\n",
    "new_list = countries[:]"
   ]
  },
  {
   "cell_type": "code",
   "execution_count": 131,
   "id": "b7769423",
   "metadata": {},
   "outputs": [
    {
     "data": {
      "text/plain": [
       "['India', 'USA', 'UK', 'Japan', 'China']"
      ]
     },
     "execution_count": 131,
     "metadata": {},
     "output_type": "execute_result"
    }
   ],
   "source": [
    "new_list"
   ]
  },
  {
   "cell_type": "code",
   "execution_count": 133,
   "id": "75fdef22",
   "metadata": {},
   "outputs": [],
   "source": [
    "new_list_2 = countries.copy()"
   ]
  },
  {
   "cell_type": "code",
   "execution_count": 134,
   "id": "66093bbc",
   "metadata": {},
   "outputs": [
    {
     "data": {
      "text/plain": [
       "['India', 'USA', 'UK', 'Japan', 'China']"
      ]
     },
     "execution_count": 134,
     "metadata": {},
     "output_type": "execute_result"
    }
   ],
   "source": [
    "new_list_2"
   ]
  },
  {
   "cell_type": "markdown",
   "id": "2a92c1c9",
   "metadata": {},
   "source": [
    "# Dicitionary"
   ]
  },
  {
   "cell_type": "code",
   "execution_count": 135,
   "id": "761480eb",
   "metadata": {},
   "outputs": [],
   "source": [
    "my_dict = {'key1':'value1','key2':'value2','key3':'value3'}"
   ]
  },
  {
   "cell_type": "code",
   "execution_count": 137,
   "id": "6381593e",
   "metadata": {},
   "outputs": [
    {
     "data": {
      "text/plain": [
       "{'name': 'Halok', 'age': 20}"
      ]
     },
     "execution_count": 137,
     "metadata": {},
     "output_type": "execute_result"
    }
   ],
   "source": [
    "my_data = {'name' : 'Halok', 'age' : 20, }\n",
    "my_data"
   ]
  },
  {
   "cell_type": "code",
   "execution_count": 140,
   "id": "19ae36dc",
   "metadata": {},
   "outputs": [
    {
     "data": {
      "text/plain": [
       "dict_keys(['name', 'age'])"
      ]
     },
     "execution_count": 140,
     "metadata": {},
     "output_type": "execute_result"
    }
   ],
   "source": [
    "my_data.keys()"
   ]
  },
  {
   "cell_type": "code",
   "execution_count": 141,
   "id": "b8f73ba0",
   "metadata": {},
   "outputs": [
    {
     "data": {
      "text/plain": [
       "dict_values(['Halok', 20])"
      ]
     },
     "execution_count": 141,
     "metadata": {},
     "output_type": "execute_result"
    }
   ],
   "source": [
    "my_data.values()"
   ]
  },
  {
   "cell_type": "code",
   "execution_count": 142,
   "id": "2d0b05b0",
   "metadata": {},
   "outputs": [
    {
     "data": {
      "text/plain": [
       "dict_items([('name', 'Halok'), ('age', 20)])"
      ]
     },
     "execution_count": 142,
     "metadata": {},
     "output_type": "execute_result"
    }
   ],
   "source": [
    "my_data.items()"
   ]
  },
  {
   "cell_type": "code",
   "execution_count": 144,
   "id": "f373544a",
   "metadata": {},
   "outputs": [],
   "source": [
    "my_data['height'] = 1.78"
   ]
  },
  {
   "cell_type": "code",
   "execution_count": 145,
   "id": "f37bbbb7",
   "metadata": {},
   "outputs": [
    {
     "data": {
      "text/plain": [
       "{'name': 'Halok', 'age': 20, 'height': 1.78}"
      ]
     },
     "execution_count": 145,
     "metadata": {},
     "output_type": "execute_result"
    }
   ],
   "source": [
    "my_data"
   ]
  },
  {
   "cell_type": "code",
   "execution_count": 165,
   "id": "884efda8",
   "metadata": {},
   "outputs": [],
   "source": [
    "my_data.update({'height': 3.99})"
   ]
  },
  {
   "cell_type": "code",
   "execution_count": 160,
   "id": "7471d6ee",
   "metadata": {},
   "outputs": [
    {
     "data": {
      "text/plain": [
       "{'name': 'Halok', 'age': 20, 'height': 2.99}"
      ]
     },
     "execution_count": 160,
     "metadata": {},
     "output_type": "execute_result"
    }
   ],
   "source": [
    "my_data"
   ]
  },
  {
   "cell_type": "markdown",
   "id": "6de747cd",
   "metadata": {},
   "source": [
    "## Copying a Dictionary"
   ]
  },
  {
   "cell_type": "code",
   "execution_count": null,
   "id": "18ddea50",
   "metadata": {},
   "outputs": [],
   "source": [
    "new_dict = my_data.copy()\n"
   ]
  },
  {
   "cell_type": "code",
   "execution_count": 164,
   "id": "88cf1b93",
   "metadata": {},
   "outputs": [
    {
     "data": {
      "text/plain": [
       "{'name': 'Halok', 'age': 20, 'height': 2.99}"
      ]
     },
     "execution_count": 164,
     "metadata": {},
     "output_type": "execute_result"
    }
   ],
   "source": [
    "new_dict"
   ]
  },
  {
   "cell_type": "code",
   "execution_count": 161,
   "id": "d62cb5f1",
   "metadata": {},
   "outputs": [],
   "source": [
    "new_dict_2 = my_data"
   ]
  },
  {
   "cell_type": "code",
   "execution_count": 166,
   "id": "3435e1e8",
   "metadata": {},
   "outputs": [
    {
     "data": {
      "text/plain": [
       "{'name': 'Halok', 'age': 20, 'height': 3.99}"
      ]
     },
     "execution_count": 166,
     "metadata": {},
     "output_type": "execute_result"
    }
   ],
   "source": [
    "new_dict_2"
   ]
  },
  {
   "cell_type": "markdown",
   "id": "de90a65e",
   "metadata": {},
   "source": [
    "## Removing an Element from a Dictionary"
   ]
  },
  {
   "cell_type": "code",
   "execution_count": 167,
   "id": "7f6698e4",
   "metadata": {},
   "outputs": [
    {
     "data": {
      "text/plain": [
       "'Halok'"
      ]
     },
     "execution_count": 167,
     "metadata": {},
     "output_type": "execute_result"
    }
   ],
   "source": [
    "my_data.pop('name')"
   ]
  },
  {
   "cell_type": "code",
   "execution_count": 168,
   "id": "6c354b01",
   "metadata": {},
   "outputs": [
    {
     "data": {
      "text/plain": [
       "{'age': 20, 'height': 3.99}"
      ]
     },
     "execution_count": 168,
     "metadata": {},
     "output_type": "execute_result"
    }
   ],
   "source": [
    "my_data"
   ]
  },
  {
   "cell_type": "code",
   "execution_count": 169,
   "id": "8288ba34",
   "metadata": {},
   "outputs": [],
   "source": [
    "del my_data['age']"
   ]
  },
  {
   "cell_type": "code",
   "execution_count": 170,
   "id": "642913ca",
   "metadata": {},
   "outputs": [
    {
     "data": {
      "text/plain": [
       "{'height': 3.99}"
      ]
     },
     "execution_count": 170,
     "metadata": {},
     "output_type": "execute_result"
    }
   ],
   "source": [
    "my_data"
   ]
  },
  {
   "cell_type": "code",
   "execution_count": 171,
   "id": "76fe476e",
   "metadata": {},
   "outputs": [
    {
     "data": {
      "text/plain": [
       "{}"
      ]
     },
     "execution_count": 171,
     "metadata": {},
     "output_type": "execute_result"
    }
   ],
   "source": [
    "my_data.clear()\n",
    "my_data"
   ]
  },
  {
   "cell_type": "markdown",
   "id": "3516a976",
   "metadata": {},
   "source": [
    "# If Statement\n"
   ]
  },
  {
   "cell_type": "code",
   "execution_count": 178,
   "id": "2ac8f9a4",
   "metadata": {},
   "outputs": [
    {
     "name": "stdout",
     "output_type": "stream",
     "text": [
      "You are a teenager.\n"
     ]
    }
   ],
   "source": [
    "age = 15\n",
    "\n",
    "if age>= 18:\n",
    "    print(\"You are an adult.\")\n",
    "elif age>=13:\n",
    "    print('You are a teenager.')\n",
    "else:\n",
    "    print(\"You are a kid.\")"
   ]
  },
  {
   "cell_type": "markdown",
   "id": "75156038",
   "metadata": {},
   "source": [
    "# For Loops"
   ]
  },
  {
   "cell_type": "code",
   "execution_count": 179,
   "id": "8e8e79b2",
   "metadata": {},
   "outputs": [
    {
     "data": {
      "text/plain": [
       "['India', 'USA', 'UK', 'Japan', 'China']"
      ]
     },
     "execution_count": 179,
     "metadata": {},
     "output_type": "execute_result"
    }
   ],
   "source": [
    "countries "
   ]
  },
  {
   "cell_type": "code",
   "execution_count": 180,
   "id": "00d694e5",
   "metadata": {},
   "outputs": [
    {
     "name": "stdout",
     "output_type": "stream",
     "text": [
      "India\n",
      "USA\n",
      "UK\n",
      "Japan\n",
      "China\n"
     ]
    }
   ],
   "source": [
    "for country in countries:\n",
    "    print(country)"
   ]
  },
  {
   "cell_type": "code",
   "execution_count": 181,
   "id": "cf143d44",
   "metadata": {},
   "outputs": [
    {
     "name": "stdout",
     "output_type": "stream",
     "text": [
      "0\n",
      "India\n",
      "1\n",
      "USA\n",
      "2\n",
      "UK\n",
      "3\n",
      "Japan\n",
      "4\n",
      "China\n"
     ]
    }
   ],
   "source": [
    "for i,country in enumerate(countries):\n",
    "    print(i)\n",
    "    print(country)"
   ]
  },
  {
   "cell_type": "code",
   "execution_count": null,
   "id": "afc9840e",
   "metadata": {},
   "outputs": [],
   "source": [
    "my_data = {'name' : 'Halok', 'age' : 20, }"
   ]
  }
 ],
 "metadata": {
  "kernelspec": {
   "display_name": "Python 3",
   "language": "python",
   "name": "python3"
  },
  "language_info": {
   "codemirror_mode": {
    "name": "ipython",
    "version": 3
   },
   "file_extension": ".py",
   "mimetype": "text/x-python",
   "name": "python",
   "nbconvert_exporter": "python",
   "pygments_lexer": "ipython3",
   "version": "3.10.0"
  }
 },
 "nbformat": 4,
 "nbformat_minor": 5
}
